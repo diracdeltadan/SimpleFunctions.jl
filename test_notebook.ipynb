{
 "cells": [
  {
   "cell_type": "code",
   "execution_count": 1,
   "id": "d6911a33-bfd3-42b4-9c17-adcb30347104",
   "metadata": {},
   "outputs": [],
   "source": [
    "using SimpleFunctions"
   ]
  },
  {
   "cell_type": "code",
   "execution_count": 2,
   "id": "97c0bf62-016f-42b6-b58b-c5d7f4d3a4f6",
   "metadata": {},
   "outputs": [
    {
     "data": {
      "text/plain": [
       "27"
      ]
     },
     "execution_count": 2,
     "metadata": {},
     "output_type": "execute_result"
    }
   ],
   "source": [
    "cube(3)"
   ]
  },
  {
   "cell_type": "code",
   "execution_count": 3,
   "id": "d71006af-99a6-4887-92f0-7f3a0945073e",
   "metadata": {},
   "outputs": [
    {
     "data": {
      "text/plain": [
       "1:5"
      ]
     },
     "execution_count": 3,
     "metadata": {},
     "output_type": "execute_result"
    }
   ],
   "source": [
    "c=1:5"
   ]
  },
  {
   "cell_type": "code",
   "execution_count": 7,
   "id": "c3b856cc-8ffa-4600-b6e8-8c7760f18f59",
   "metadata": {},
   "outputs": [],
   "source": [
    "x=5.0*ones(5);"
   ]
  },
  {
   "cell_type": "code",
   "execution_count": 6,
   "id": "791835d8-93a1-45d4-beb8-59697dfe9a8f",
   "metadata": {},
   "outputs": [
    {
     "data": {
      "text/plain": [
       "75.0"
      ]
     },
     "execution_count": 6,
     "metadata": {},
     "output_type": "execute_result"
    }
   ],
   "source": [
    "sum(x .* c)"
   ]
  },
  {
   "cell_type": "code",
   "execution_count": 8,
   "id": "c0bef06f-14b8-4699-87e5-ab01ec82ca19",
   "metadata": {},
   "outputs": [
    {
     "data": {
      "text/plain": [
       "75.0"
      ]
     },
     "execution_count": 8,
     "metadata": {},
     "output_type": "execute_result"
    }
   ],
   "source": [
    "linear_combo(c,x)"
   ]
  },
  {
   "cell_type": "code",
   "execution_count": null,
   "id": "ccb93d79-6731-4aaa-a45b-708cb0a0bb47",
   "metadata": {},
   "outputs": [],
   "source": []
  }
 ],
 "metadata": {
  "kernelspec": {
   "display_name": "Julia 1.10.0",
   "language": "julia",
   "name": "julia-1.10"
  },
  "language_info": {
   "file_extension": ".jl",
   "mimetype": "application/julia",
   "name": "julia",
   "version": "1.10.0"
  }
 },
 "nbformat": 4,
 "nbformat_minor": 5
}
